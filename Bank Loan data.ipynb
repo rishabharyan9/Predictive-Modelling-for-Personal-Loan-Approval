{
 "cells": [
  {
   "cell_type": "code",
   "execution_count": 31,
   "id": "63597e3f",
   "metadata": {},
   "outputs": [],
   "source": [
    "import numpy as np\n",
    "import pandas as pd\n",
    "import matplotlib.pyplot as plt\n",
    "import seaborn as sns\n",
    "\n",
    "import warnings\n",
    "warnings.filterwarnings('ignore')"
   ]
  },
  {
   "cell_type": "markdown",
   "id": "cf26981d",
   "metadata": {},
   "source": [
    "### Q1 (8 Marks)\n",
    "\n",
    "a. Read the dataset. What are the number of rows and columns and type of variables?\n",
    "\n",
    "b. explain the five point summary of the dataset\n",
    "\n",
    "c. What is distribution in catgeory columns. % of obs in each category.\n",
    "\n",
    "d. Check for the defects, missing values, outliers and class imbalance."
   ]
  },
  {
   "cell_type": "code",
   "execution_count": 32,
   "id": "23b9c1af",
   "metadata": {},
   "outputs": [],
   "source": [
    "# Q1 a)\n",
    "\n",
    "data = pd.read_excel('data (1).xlsx')"
   ]
  },
  {
   "cell_type": "code",
   "execution_count": 33,
   "id": "2cf4d968",
   "metadata": {},
   "outputs": [
    {
     "name": "stdout",
     "output_type": "stream",
     "text": [
      "No of rows: 5000\n",
      "No of columns: 14\n"
     ]
    }
   ],
   "source": [
    "print('No of rows:',data.shape[0])\n",
    "print('No of columns:',data.shape[1])"
   ]
  },
  {
   "cell_type": "code",
   "execution_count": 34,
   "id": "59738eb0",
   "metadata": {},
   "outputs": [
    {
     "name": "stdout",
     "output_type": "stream",
     "text": [
      "<class 'pandas.core.frame.DataFrame'>\n",
      "RangeIndex: 5000 entries, 0 to 4999\n",
      "Data columns (total 14 columns):\n",
      " #   Column              Non-Null Count  Dtype  \n",
      "---  ------              --------------  -----  \n",
      " 0   ID                  5000 non-null   int64  \n",
      " 1   Age                 5000 non-null   int64  \n",
      " 2   Experience          5000 non-null   int64  \n",
      " 3   Income              5000 non-null   int64  \n",
      " 4   ZIP Code            5000 non-null   int64  \n",
      " 5   Family              5000 non-null   int64  \n",
      " 6   CCAvg               5000 non-null   float64\n",
      " 7   Education           5000 non-null   int64  \n",
      " 8   Mortgage            5000 non-null   int64  \n",
      " 9   Personal Loan       5000 non-null   int64  \n",
      " 10  Securities Account  5000 non-null   int64  \n",
      " 11  CD Account          5000 non-null   int64  \n",
      " 12  Online              5000 non-null   int64  \n",
      " 13  CreditCard          5000 non-null   int64  \n",
      "dtypes: float64(1), int64(13)\n",
      "memory usage: 547.0 KB\n"
     ]
    }
   ],
   "source": [
    "data.info()"
   ]
  },
  {
   "cell_type": "code",
   "execution_count": 35,
   "id": "9dd742d3",
   "metadata": {},
   "outputs": [],
   "source": [
    "# Although all the columns are number type, but there are categories\n",
    "# which have been encoded.\n"
   ]
  },
  {
   "cell_type": "code",
   "execution_count": 36,
   "id": "db58c243",
   "metadata": {},
   "outputs": [],
   "source": [
    "cat_cols = ['Family','Education','Personal Loan','CD Account','Online',\n",
    "           'Securities Account','CreditCard']\n",
    "num_cols = ['ID','Age','Experience','Income','ZIP Code','CCAvg','Mortgage']"
   ]
  },
  {
   "cell_type": "markdown",
   "id": "6bdc1f7f",
   "metadata": {},
   "source": [
    "So In a dataset we have 7 category columns and 7 number columns"
   ]
  },
  {
   "cell_type": "code",
   "execution_count": 37,
   "id": "6c3bdf28",
   "metadata": {},
   "outputs": [
    {
     "data": {
      "text/html": [
       "<div>\n",
       "<style scoped>\n",
       "    .dataframe tbody tr th:only-of-type {\n",
       "        vertical-align: middle;\n",
       "    }\n",
       "\n",
       "    .dataframe tbody tr th {\n",
       "        vertical-align: top;\n",
       "    }\n",
       "\n",
       "    .dataframe thead th {\n",
       "        text-align: right;\n",
       "    }\n",
       "</style>\n",
       "<table border=\"1\" class=\"dataframe\">\n",
       "  <thead>\n",
       "    <tr style=\"text-align: right;\">\n",
       "      <th></th>\n",
       "      <th>count</th>\n",
       "      <th>mean</th>\n",
       "      <th>std</th>\n",
       "      <th>min</th>\n",
       "      <th>25%</th>\n",
       "      <th>50%</th>\n",
       "      <th>75%</th>\n",
       "      <th>max</th>\n",
       "    </tr>\n",
       "  </thead>\n",
       "  <tbody>\n",
       "    <tr>\n",
       "      <th>ID</th>\n",
       "      <td>5000.0</td>\n",
       "      <td>2500.500000</td>\n",
       "      <td>1443.520003</td>\n",
       "      <td>1.0</td>\n",
       "      <td>1250.75</td>\n",
       "      <td>2500.5</td>\n",
       "      <td>3750.25</td>\n",
       "      <td>5000.0</td>\n",
       "    </tr>\n",
       "    <tr>\n",
       "      <th>Age</th>\n",
       "      <td>5000.0</td>\n",
       "      <td>45.338400</td>\n",
       "      <td>11.463166</td>\n",
       "      <td>23.0</td>\n",
       "      <td>35.00</td>\n",
       "      <td>45.0</td>\n",
       "      <td>55.00</td>\n",
       "      <td>67.0</td>\n",
       "    </tr>\n",
       "    <tr>\n",
       "      <th>Experience</th>\n",
       "      <td>5000.0</td>\n",
       "      <td>20.104600</td>\n",
       "      <td>11.467954</td>\n",
       "      <td>-3.0</td>\n",
       "      <td>10.00</td>\n",
       "      <td>20.0</td>\n",
       "      <td>30.00</td>\n",
       "      <td>43.0</td>\n",
       "    </tr>\n",
       "    <tr>\n",
       "      <th>Income</th>\n",
       "      <td>5000.0</td>\n",
       "      <td>73.774200</td>\n",
       "      <td>46.033729</td>\n",
       "      <td>8.0</td>\n",
       "      <td>39.00</td>\n",
       "      <td>64.0</td>\n",
       "      <td>98.00</td>\n",
       "      <td>224.0</td>\n",
       "    </tr>\n",
       "    <tr>\n",
       "      <th>ZIP Code</th>\n",
       "      <td>5000.0</td>\n",
       "      <td>93152.503000</td>\n",
       "      <td>2121.852197</td>\n",
       "      <td>9307.0</td>\n",
       "      <td>91911.00</td>\n",
       "      <td>93437.0</td>\n",
       "      <td>94608.00</td>\n",
       "      <td>96651.0</td>\n",
       "    </tr>\n",
       "    <tr>\n",
       "      <th>Family</th>\n",
       "      <td>5000.0</td>\n",
       "      <td>2.396400</td>\n",
       "      <td>1.147663</td>\n",
       "      <td>1.0</td>\n",
       "      <td>1.00</td>\n",
       "      <td>2.0</td>\n",
       "      <td>3.00</td>\n",
       "      <td>4.0</td>\n",
       "    </tr>\n",
       "    <tr>\n",
       "      <th>CCAvg</th>\n",
       "      <td>5000.0</td>\n",
       "      <td>1.937913</td>\n",
       "      <td>1.747666</td>\n",
       "      <td>0.0</td>\n",
       "      <td>0.70</td>\n",
       "      <td>1.5</td>\n",
       "      <td>2.50</td>\n",
       "      <td>10.0</td>\n",
       "    </tr>\n",
       "    <tr>\n",
       "      <th>Education</th>\n",
       "      <td>5000.0</td>\n",
       "      <td>1.881000</td>\n",
       "      <td>0.839869</td>\n",
       "      <td>1.0</td>\n",
       "      <td>1.00</td>\n",
       "      <td>2.0</td>\n",
       "      <td>3.00</td>\n",
       "      <td>3.0</td>\n",
       "    </tr>\n",
       "    <tr>\n",
       "      <th>Mortgage</th>\n",
       "      <td>5000.0</td>\n",
       "      <td>56.498800</td>\n",
       "      <td>101.713802</td>\n",
       "      <td>0.0</td>\n",
       "      <td>0.00</td>\n",
       "      <td>0.0</td>\n",
       "      <td>101.00</td>\n",
       "      <td>635.0</td>\n",
       "    </tr>\n",
       "    <tr>\n",
       "      <th>Personal Loan</th>\n",
       "      <td>5000.0</td>\n",
       "      <td>0.096000</td>\n",
       "      <td>0.294621</td>\n",
       "      <td>0.0</td>\n",
       "      <td>0.00</td>\n",
       "      <td>0.0</td>\n",
       "      <td>0.00</td>\n",
       "      <td>1.0</td>\n",
       "    </tr>\n",
       "    <tr>\n",
       "      <th>Securities Account</th>\n",
       "      <td>5000.0</td>\n",
       "      <td>0.104400</td>\n",
       "      <td>0.305809</td>\n",
       "      <td>0.0</td>\n",
       "      <td>0.00</td>\n",
       "      <td>0.0</td>\n",
       "      <td>0.00</td>\n",
       "      <td>1.0</td>\n",
       "    </tr>\n",
       "    <tr>\n",
       "      <th>CD Account</th>\n",
       "      <td>5000.0</td>\n",
       "      <td>0.060400</td>\n",
       "      <td>0.238250</td>\n",
       "      <td>0.0</td>\n",
       "      <td>0.00</td>\n",
       "      <td>0.0</td>\n",
       "      <td>0.00</td>\n",
       "      <td>1.0</td>\n",
       "    </tr>\n",
       "    <tr>\n",
       "      <th>Online</th>\n",
       "      <td>5000.0</td>\n",
       "      <td>0.596800</td>\n",
       "      <td>0.490589</td>\n",
       "      <td>0.0</td>\n",
       "      <td>0.00</td>\n",
       "      <td>1.0</td>\n",
       "      <td>1.00</td>\n",
       "      <td>1.0</td>\n",
       "    </tr>\n",
       "    <tr>\n",
       "      <th>CreditCard</th>\n",
       "      <td>5000.0</td>\n",
       "      <td>0.294000</td>\n",
       "      <td>0.455637</td>\n",
       "      <td>0.0</td>\n",
       "      <td>0.00</td>\n",
       "      <td>0.0</td>\n",
       "      <td>1.00</td>\n",
       "      <td>1.0</td>\n",
       "    </tr>\n",
       "  </tbody>\n",
       "</table>\n",
       "</div>"
      ],
      "text/plain": [
       "                     count          mean          std     min       25%  \\\n",
       "ID                  5000.0   2500.500000  1443.520003     1.0   1250.75   \n",
       "Age                 5000.0     45.338400    11.463166    23.0     35.00   \n",
       "Experience          5000.0     20.104600    11.467954    -3.0     10.00   \n",
       "Income              5000.0     73.774200    46.033729     8.0     39.00   \n",
       "ZIP Code            5000.0  93152.503000  2121.852197  9307.0  91911.00   \n",
       "Family              5000.0      2.396400     1.147663     1.0      1.00   \n",
       "CCAvg               5000.0      1.937913     1.747666     0.0      0.70   \n",
       "Education           5000.0      1.881000     0.839869     1.0      1.00   \n",
       "Mortgage            5000.0     56.498800   101.713802     0.0      0.00   \n",
       "Personal Loan       5000.0      0.096000     0.294621     0.0      0.00   \n",
       "Securities Account  5000.0      0.104400     0.305809     0.0      0.00   \n",
       "CD Account          5000.0      0.060400     0.238250     0.0      0.00   \n",
       "Online              5000.0      0.596800     0.490589     0.0      0.00   \n",
       "CreditCard          5000.0      0.294000     0.455637     0.0      0.00   \n",
       "\n",
       "                        50%       75%      max  \n",
       "ID                   2500.5   3750.25   5000.0  \n",
       "Age                    45.0     55.00     67.0  \n",
       "Experience             20.0     30.00     43.0  \n",
       "Income                 64.0     98.00    224.0  \n",
       "ZIP Code            93437.0  94608.00  96651.0  \n",
       "Family                  2.0      3.00      4.0  \n",
       "CCAvg                   1.5      2.50     10.0  \n",
       "Education               2.0      3.00      3.0  \n",
       "Mortgage                0.0    101.00    635.0  \n",
       "Personal Loan           0.0      0.00      1.0  \n",
       "Securities Account      0.0      0.00      1.0  \n",
       "CD Account              0.0      0.00      1.0  \n",
       "Online                  1.0      1.00      1.0  \n",
       "CreditCard              0.0      1.00      1.0  "
      ]
     },
     "execution_count": 37,
     "metadata": {},
     "output_type": "execute_result"
    }
   ],
   "source": [
    "# Q1 b)\n",
    "\n",
    "data.describe().T"
   ]
  },
  {
   "cell_type": "code",
   "execution_count": 38,
   "id": "90721301",
   "metadata": {},
   "outputs": [
    {
     "name": "stdout",
     "output_type": "stream",
     "text": [
      "column: Family\n",
      "1    29.44\n",
      "2    25.92\n",
      "4    24.44\n",
      "3    20.20\n",
      "Name: Family, dtype: float64\n",
      "\n",
      "column: Education\n",
      "1    41.92\n",
      "3    30.02\n",
      "2    28.06\n",
      "Name: Education, dtype: float64\n",
      "\n",
      "column: Personal Loan\n",
      "0    90.4\n",
      "1     9.6\n",
      "Name: Personal Loan, dtype: float64\n",
      "\n",
      "column: CD Account\n",
      "0    93.96\n",
      "1     6.04\n",
      "Name: CD Account, dtype: float64\n",
      "\n",
      "column: Online\n",
      "1    59.68\n",
      "0    40.32\n",
      "Name: Online, dtype: float64\n",
      "\n",
      "column: Securities Account\n",
      "0    89.56\n",
      "1    10.44\n",
      "Name: Securities Account, dtype: float64\n",
      "\n",
      "column: CreditCard\n",
      "0    70.6\n",
      "1    29.4\n",
      "Name: CreditCard, dtype: float64\n",
      "\n"
     ]
    }
   ],
   "source": [
    "# Q1) c)\n",
    "\n",
    "for i in cat_cols:\n",
    "    print('column:',i)\n",
    "    print((data[i].value_counts(normalize=True))*100)\n",
    "    print()"
   ]
  },
  {
   "cell_type": "code",
   "execution_count": 39,
   "id": "547ddbaf",
   "metadata": {},
   "outputs": [
    {
     "data": {
      "text/plain": [
       "ID                    0\n",
       "Age                   0\n",
       "Experience            0\n",
       "Income                0\n",
       "ZIP Code              0\n",
       "Family                0\n",
       "CCAvg                 0\n",
       "Education             0\n",
       "Mortgage              0\n",
       "Personal Loan         0\n",
       "Securities Account    0\n",
       "CD Account            0\n",
       "Online                0\n",
       "CreditCard            0\n",
       "dtype: int64"
      ]
     },
     "execution_count": 39,
     "metadata": {},
     "output_type": "execute_result"
    }
   ],
   "source": [
    "# Q1 d)\n",
    "\n",
    "# Missing Values\n",
    "data.isnull().sum()"
   ]
  },
  {
   "cell_type": "code",
   "execution_count": 40,
   "id": "63f0d536",
   "metadata": {},
   "outputs": [
    {
     "data": {
      "image/png": "[encoded data removed]",
      "text/plain": [
       "<Figure size 640x480 with 7 Axes>"
      ]
     },
     "metadata": {},
     "output_type": "display_data"
    }
   ],
   "source": [
    "# Outliers\n",
    "\n",
    "t = 1\n",
    "for i in num_cols:\n",
    "    plt.subplot(4,2,t)\n",
    "    sns.boxplot(data[i])\n",
    "    t+=1\n",
    "plt.tight_layout()\n",
    "plt.show()\n",
    "    "
   ]
  },
  {
   "cell_type": "markdown",
   "id": "8660810b",
   "metadata": {},
   "source": [
    "Income, Mortgage and CCAvg have some outliers"
   ]
  },
  {
   "cell_type": "code",
   "execution_count": 43,
   "id": "04d25efb",
   "metadata": {},
   "outputs": [
    {
     "data": {
      "text/plain": [
       "0    90.4\n",
       "1     9.6\n",
       "Name: Personal Loan, dtype: float64"
      ]
     },
     "execution_count": 43,
     "metadata": {},
     "output_type": "execute_result"
    }
   ],
   "source": [
    "# Class Imbalance\n",
    "\n",
    "(data['Personal Loan'].value_counts(normalize=True))*100"
   ]
  },
  {
   "cell_type": "markdown",
   "id": "17cd888d",
   "metadata": {},
   "source": [
    "The target class seems to be imbalanced"
   ]
  },
  {
   "cell_type": "markdown",
   "id": "89344a31",
   "metadata": {},
   "source": [
    "### Q2 (17 marks)\n",
    "\n",
    "a. Fix the defects\n",
    "\n",
    "b. Find out the variables which are hight correlated withe target using relevent plot\n",
    "\n",
    "c. What variables can be excluded from the models.\n",
    "\n",
    "d. Perform encoding.\n",
    "\n",
    "e. Split the data into train and test (70:30). Are both train and test representative of the overall data. How will you acertain it statistically?"
   ]
  },
  {
   "cell_type": "code",
   "execution_count": 44,
   "id": "0089284f",
   "metadata": {},
   "outputs": [],
   "source": [
    "# Q2 a)\n",
    "\n",
    "# No Missing Values\n",
    "\n",
    "# No extreme Outliers (We will make the model using same dist)\n",
    "\n",
    "# Although the target class is imbalanced we will make the base model with\n",
    "# imbalanced data."
   ]
  },
  {
   "cell_type": "code",
   "execution_count": 47,
   "id": "96930ee7",
   "metadata": {},
   "outputs": [
    {
     "data": {
      "text/plain": [
       "<AxesSubplot:>"
      ]
     },
     "execution_count": 47,
     "metadata": {},
     "output_type": "execute_result"
    },
    {
     "data": {
      "image/png": "[encoded data removed]",
      "text/plain": [
       "<Figure size 1000x700 with 2 Axes>"
      ]
     },
     "metadata": {},
     "output_type": "display_data"
    }
   ],
   "source": [
    "# Q2 b)\n",
    "plt.figure(figsize=(10,7))\n",
    "sns.heatmap(data.corr(),annot=True,vmax=1,vmin=-1,cmap='rainbow')"
   ]
  },
  {
   "cell_type": "markdown",
   "id": "48d68b46",
   "metadata": {},
   "source": [
    "* Age and Experience are highly correlated\n",
    "* Income and CCAvg shows good positve correlation.\n",
    "* Income also shows good correkation with the target (Personal Loan)"
   ]
  },
  {
   "cell_type": "code",
   "execution_count": 48,
   "id": "17e112e4",
   "metadata": {},
   "outputs": [],
   "source": [
    "# Q2 c)\n",
    "\n",
    "# Lets drop Drop ID as it is only the representation of indivisual rows.\n",
    "\n",
    "del data['ID']"
   ]
  },
  {
   "cell_type": "code",
   "execution_count": 49,
   "id": "9023c5ae",
   "metadata": {},
   "outputs": [],
   "source": [
    "# Q2 d)\n",
    "\n",
    "# The data is already encoded."
   ]
  },
  {
   "cell_type": "code",
   "execution_count": 50,
   "id": "3294824c",
   "metadata": {},
   "outputs": [],
   "source": [
    "# Q2 e)\n",
    "\n",
    "from sklearn.model_selection import train_test_split"
   ]
  },
  {
   "cell_type": "code",
   "execution_count": 75,
   "id": "622a1d0d",
   "metadata": {},
   "outputs": [],
   "source": [
    "x = data.drop(columns=['Personal Loan'])\n",
    "y = data['Personal Loan']\n",
    "\n",
    "x_train,x_test,y_train,y_test = train_test_split(x,y,\n",
    "                                                train_size=0.7,\n",
    "                                                 stratify=y,\n",
    "                                                random_state=1)"
   ]
  },
  {
   "cell_type": "code",
   "execution_count": 76,
   "id": "9c2be00a",
   "metadata": {},
   "outputs": [
    {
     "name": "stdout",
     "output_type": "stream",
     "text": [
      "(3500, 12) (3500,) (1500, 12) (1500,)\n"
     ]
    }
   ],
   "source": [
    "print(x_train.shape,y_train.shape,x_test.shape,y_test.shape)"
   ]
  },
  {
   "cell_type": "code",
   "execution_count": 77,
   "id": "046cdccc",
   "metadata": {},
   "outputs": [],
   "source": [
    "# To proove that the distribution in y_train and y_test is same as y\n",
    "# We will chi-square goodness of fit."
   ]
  },
  {
   "cell_type": "code",
   "execution_count": 78,
   "id": "92819b65",
   "metadata": {},
   "outputs": [],
   "source": [
    "expected = y.value_counts(normalize=True).values"
   ]
  },
  {
   "cell_type": "code",
   "execution_count": 79,
   "id": "cdd508cc",
   "metadata": {},
   "outputs": [],
   "source": [
    "observed_test = y_test.value_counts(normalize=True).values"
   ]
  },
  {
   "cell_type": "code",
   "execution_count": 80,
   "id": "b7eac2f2",
   "metadata": {},
   "outputs": [],
   "source": [
    "import scipy.stats as stats"
   ]
  },
  {
   "cell_type": "code",
   "execution_count": 81,
   "id": "235b0379",
   "metadata": {},
   "outputs": [
    {
     "data": {
      "text/plain": [
       "Power_divergenceResult(statistic=0.0, pvalue=1.0)"
      ]
     },
     "execution_count": 81,
     "metadata": {},
     "output_type": "execute_result"
    }
   ],
   "source": [
    "# Ho: The distribution is same\n",
    "# Ha: The distribution is not same\n",
    "\n",
    "stats.chisquare(observed_test,expected)"
   ]
  },
  {
   "cell_type": "code",
   "execution_count": 82,
   "id": "e43c4476",
   "metadata": {},
   "outputs": [],
   "source": [
    "observed_train = y_train.value_counts(normalize=True).values"
   ]
  },
  {
   "cell_type": "code",
   "execution_count": 83,
   "id": "c9b44a27",
   "metadata": {},
   "outputs": [
    {
     "data": {
      "text/plain": [
       "Power_divergenceResult(statistic=0.0, pvalue=1.0)"
      ]
     },
     "execution_count": 83,
     "metadata": {},
     "output_type": "execute_result"
    }
   ],
   "source": [
    "# Ho: The distribution is same\n",
    "# Ha: The distribution is not same\n",
    "\n",
    "stats.chisquare(observed_train,expected)"
   ]
  },
  {
   "cell_type": "markdown",
   "id": "0cdb62de",
   "metadata": {},
   "source": [
    "### Q3 (25 Marks)\n",
    "\n",
    "a. Fit a base model also explain reason to selecting that model. Write down the key observation.\n",
    "\n",
    "b. What is the overall accuracy. Comment.\n",
    "\n",
    "c. Evaluate the other scoring metrics. What will be the objective while optimizing the model.\n",
    "\n",
    "d. How will you improve the prediction. Mention what all changes you will make to get the final model.\n",
    "\n",
    "e. Write down the business interpretation. Which variables affecting the target variable most."
   ]
  },
  {
   "cell_type": "code",
   "execution_count": 84,
   "id": "9069426d",
   "metadata": {},
   "outputs": [],
   "source": [
    "# Q3 a)\n",
    "\n",
    "# Base model: Logistic Regression (For business interpretation)\n",
    "\n",
    "import statsmodels.api as sma"
   ]
  },
  {
   "cell_type": "code",
   "execution_count": 113,
   "id": "40d1252c",
   "metadata": {},
   "outputs": [
    {
     "name": "stdout",
     "output_type": "stream",
     "text": [
      "Optimization terminated successfully.\n",
      "         Current function value: 0.122140\n",
      "         Iterations 9\n"
     ]
    },
    {
     "data": {
      "text/html": [
       "<table class=\"simpletable\">\n",
       "<caption>Logit Regression Results</caption>\n",
       "<tr>\n",
       "  <th>Dep. Variable:</th>     <td>Personal Loan</td>  <th>  No. Observations:  </th>   <td>  3500</td>  \n",
       "</tr>\n",
       "<tr>\n",
       "  <th>Model:</th>                 <td>Logit</td>      <th>  Df Residuals:      </th>   <td>  3487</td>  \n",
       "</tr>\n",
       "<tr>\n",
       "  <th>Method:</th>                 <td>MLE</td>       <th>  Df Model:          </th>   <td>    12</td>  \n",
       "</tr>\n",
       "<tr>\n",
       "  <th>Date:</th>            <td>Mon, 18 Mar 2024</td> <th>  Pseudo R-squ.:     </th>   <td>0.6137</td>  \n",
       "</tr>\n",
       "<tr>\n",
       "  <th>Time:</th>                <td>12:33:11</td>     <th>  Log-Likelihood:    </th>  <td> -427.49</td> \n",
       "</tr>\n",
       "<tr>\n",
       "  <th>converged:</th>             <td>True</td>       <th>  LL-Null:           </th>  <td> -1106.7</td> \n",
       "</tr>\n",
       "<tr>\n",
       "  <th>Covariance Type:</th>     <td>nonrobust</td>    <th>  LLR p-value:       </th> <td>1.261e-283</td>\n",
       "</tr>\n",
       "</table>\n",
       "<table class=\"simpletable\">\n",
       "<tr>\n",
       "           <td></td>             <th>coef</th>     <th>std err</th>      <th>z</th>      <th>P>|z|</th>  <th>[0.025</th>    <th>0.975]</th>  \n",
       "</tr>\n",
       "<tr>\n",
       "  <th>const</th>              <td>  -14.8946</td> <td>    5.221</td> <td>   -2.853</td> <td> 0.004</td> <td>  -25.128</td> <td>   -4.661</td>\n",
       "</tr>\n",
       "<tr>\n",
       "  <th>Age</th>                <td>   -0.0405</td> <td>    0.074</td> <td>   -0.549</td> <td> 0.583</td> <td>   -0.185</td> <td>    0.104</td>\n",
       "</tr>\n",
       "<tr>\n",
       "  <th>Experience</th>         <td>    0.0557</td> <td>    0.073</td> <td>    0.759</td> <td> 0.448</td> <td>   -0.088</td> <td>    0.199</td>\n",
       "</tr>\n",
       "<tr>\n",
       "  <th>Income</th>             <td>    0.0605</td> <td>    0.003</td> <td>   17.759</td> <td> 0.000</td> <td>    0.054</td> <td>    0.067</td>\n",
       "</tr>\n",
       "<tr>\n",
       "  <th>ZIP Code</th>           <td>   1.5e-05</td> <td> 5.19e-05</td> <td>    0.289</td> <td> 0.772</td> <td>-8.67e-05</td> <td>    0.000</td>\n",
       "</tr>\n",
       "<tr>\n",
       "  <th>Family</th>             <td>    0.6783</td> <td>    0.090</td> <td>    7.527</td> <td> 0.000</td> <td>    0.502</td> <td>    0.855</td>\n",
       "</tr>\n",
       "<tr>\n",
       "  <th>CCAvg</th>              <td>    0.0643</td> <td>    0.049</td> <td>    1.323</td> <td> 0.186</td> <td>   -0.031</td> <td>    0.160</td>\n",
       "</tr>\n",
       "<tr>\n",
       "  <th>Education</th>          <td>    1.9155</td> <td>    0.147</td> <td>   13.045</td> <td> 0.000</td> <td>    1.628</td> <td>    2.203</td>\n",
       "</tr>\n",
       "<tr>\n",
       "  <th>Mortgage</th>           <td>    0.0007</td> <td>    0.001</td> <td>    1.014</td> <td> 0.310</td> <td>   -0.001</td> <td>    0.002</td>\n",
       "</tr>\n",
       "<tr>\n",
       "  <th>Securities Account</th> <td>   -1.0603</td> <td>    0.357</td> <td>   -2.970</td> <td> 0.003</td> <td>   -1.760</td> <td>   -0.361</td>\n",
       "</tr>\n",
       "<tr>\n",
       "  <th>CD Account</th>         <td>    3.7318</td> <td>    0.405</td> <td>    9.217</td> <td> 0.000</td> <td>    2.938</td> <td>    4.525</td>\n",
       "</tr>\n",
       "<tr>\n",
       "  <th>Online</th>             <td>   -0.6642</td> <td>    0.194</td> <td>   -3.418</td> <td> 0.001</td> <td>   -1.045</td> <td>   -0.283</td>\n",
       "</tr>\n",
       "<tr>\n",
       "  <th>CreditCard</th>         <td>   -1.1474</td> <td>    0.252</td> <td>   -4.562</td> <td> 0.000</td> <td>   -1.640</td> <td>   -0.654</td>\n",
       "</tr>\n",
       "</table>"
      ],
      "text/plain": [
       "<class 'statsmodels.iolib.summary.Summary'>\n",
       "\"\"\"\n",
       "                           Logit Regression Results                           \n",
       "==============================================================================\n",
       "Dep. Variable:          Personal Loan   No. Observations:                 3500\n",
       "Model:                          Logit   Df Residuals:                     3487\n",
       "Method:                           MLE   Df Model:                           12\n",
       "Date:                Mon, 18 Mar 2024   Pseudo R-squ.:                  0.6137\n",
       "Time:                        12:33:11   Log-Likelihood:                -427.49\n",
       "converged:                       True   LL-Null:                       -1106.7\n",
       "Covariance Type:            nonrobust   LLR p-value:                1.261e-283\n",
       "======================================================================================\n",
       "                         coef    std err          z      P>|z|      [0.025      0.975]\n",
       "--------------------------------------------------------------------------------------\n",
       "const                -14.8946      5.221     -2.853      0.004     -25.128      -4.661\n",
       "Age                   -0.0405      0.074     -0.549      0.583      -0.185       0.104\n",
       "Experience             0.0557      0.073      0.759      0.448      -0.088       0.199\n",
       "Income                 0.0605      0.003     17.759      0.000       0.054       0.067\n",
       "ZIP Code              1.5e-05   5.19e-05      0.289      0.772   -8.67e-05       0.000\n",
       "Family                 0.6783      0.090      7.527      0.000       0.502       0.855\n",
       "CCAvg                  0.0643      0.049      1.323      0.186      -0.031       0.160\n",
       "Education              1.9155      0.147     13.045      0.000       1.628       2.203\n",
       "Mortgage               0.0007      0.001      1.014      0.310      -0.001       0.002\n",
       "Securities Account    -1.0603      0.357     -2.970      0.003      -1.760      -0.361\n",
       "CD Account             3.7318      0.405      9.217      0.000       2.938       4.525\n",
       "Online                -0.6642      0.194     -3.418      0.001      -1.045      -0.283\n",
       "CreditCard            -1.1474      0.252     -4.562      0.000      -1.640      -0.654\n",
       "======================================================================================\n",
       "\"\"\""
      ]
     },
     "execution_count": 113,
     "metadata": {},
     "output_type": "execute_result"
    }
   ],
   "source": [
    "base_model = sma.Logit(y_train,sma.add_constant(x_train)).fit()\n",
    "base_model.summary()"
   ]
  },
  {
   "cell_type": "code",
   "execution_count": 93,
   "id": "fdf19b96",
   "metadata": {},
   "outputs": [
    {
     "data": {
      "text/plain": [
       "0.6137304671829036"
      ]
     },
     "execution_count": 93,
     "metadata": {},
     "output_type": "execute_result"
    }
   ],
   "source": [
    "# Pseudo R2\n",
    "1 - (base_model.llf/base_model.llnull)"
   ]
  },
  {
   "cell_type": "code",
   "execution_count": null,
   "id": "0456e451",
   "metadata": {},
   "outputs": [],
   "source": [
    "# Since Age and Experience Have high Multicolinearity we need to remove \n",
    "# any of them"
   ]
  },
  {
   "cell_type": "code",
   "execution_count": 99,
   "id": "016215e0",
   "metadata": {},
   "outputs": [
    {
     "name": "stdout",
     "output_type": "stream",
     "text": [
      "Optimization terminated successfully.\n",
      "         Current function value: 0.122184\n",
      "         Iterations 9\n"
     ]
    },
    {
     "data": {
      "text/html": [
       "<table class=\"simpletable\">\n",
       "<caption>Logit Regression Results</caption>\n",
       "<tr>\n",
       "  <th>Dep. Variable:</th>     <td>Personal Loan</td>  <th>  No. Observations:  </th>   <td>  3500</td>  \n",
       "</tr>\n",
       "<tr>\n",
       "  <th>Model:</th>                 <td>Logit</td>      <th>  Df Residuals:      </th>   <td>  3488</td>  \n",
       "</tr>\n",
       "<tr>\n",
       "  <th>Method:</th>                 <td>MLE</td>       <th>  Df Model:          </th>   <td>    11</td>  \n",
       "</tr>\n",
       "<tr>\n",
       "  <th>Date:</th>            <td>Mon, 18 Mar 2024</td> <th>  Pseudo R-squ.:     </th>   <td>0.6136</td>  \n",
       "</tr>\n",
       "<tr>\n",
       "  <th>Time:</th>                <td>12:15:37</td>     <th>  Log-Likelihood:    </th>  <td> -427.64</td> \n",
       "</tr>\n",
       "<tr>\n",
       "  <th>converged:</th>             <td>True</td>       <th>  LL-Null:           </th>  <td> -1106.7</td> \n",
       "</tr>\n",
       "<tr>\n",
       "  <th>Covariance Type:</th>     <td>nonrobust</td>    <th>  LLR p-value:       </th> <td>1.290e-284</td>\n",
       "</tr>\n",
       "</table>\n",
       "<table class=\"simpletable\">\n",
       "<tr>\n",
       "           <td></td>             <th>coef</th>     <th>std err</th>      <th>z</th>      <th>P>|z|</th>  <th>[0.025</th>    <th>0.975]</th>  \n",
       "</tr>\n",
       "<tr>\n",
       "  <th>const</th>              <td>  -15.8745</td> <td>    4.909</td> <td>   -3.234</td> <td> 0.001</td> <td>  -25.496</td> <td>   -6.253</td>\n",
       "</tr>\n",
       "<tr>\n",
       "  <th>Experience</th>         <td>    0.0156</td> <td>    0.008</td> <td>    1.961</td> <td> 0.050</td> <td> 4.65e-06</td> <td>    0.031</td>\n",
       "</tr>\n",
       "<tr>\n",
       "  <th>Income</th>             <td>    0.0605</td> <td>    0.003</td> <td>   17.789</td> <td> 0.000</td> <td>    0.054</td> <td>    0.067</td>\n",
       "</tr>\n",
       "<tr>\n",
       "  <th>ZIP Code</th>           <td> 1.463e-05</td> <td> 5.19e-05</td> <td>    0.282</td> <td> 0.778</td> <td> -8.7e-05</td> <td>    0.000</td>\n",
       "</tr>\n",
       "<tr>\n",
       "  <th>Family</th>             <td>    0.6794</td> <td>    0.090</td> <td>    7.542</td> <td> 0.000</td> <td>    0.503</td> <td>    0.856</td>\n",
       "</tr>\n",
       "<tr>\n",
       "  <th>CCAvg</th>              <td>    0.0642</td> <td>    0.049</td> <td>    1.319</td> <td> 0.187</td> <td>   -0.031</td> <td>    0.159</td>\n",
       "</tr>\n",
       "<tr>\n",
       "  <th>Education</th>          <td>    1.9032</td> <td>    0.145</td> <td>   13.118</td> <td> 0.000</td> <td>    1.619</td> <td>    2.188</td>\n",
       "</tr>\n",
       "<tr>\n",
       "  <th>Mortgage</th>           <td>    0.0007</td> <td>    0.001</td> <td>    0.993</td> <td> 0.321</td> <td>   -0.001</td> <td>    0.002</td>\n",
       "</tr>\n",
       "<tr>\n",
       "  <th>Securities Account</th> <td>   -1.0596</td> <td>    0.357</td> <td>   -2.970</td> <td> 0.003</td> <td>   -1.759</td> <td>   -0.360</td>\n",
       "</tr>\n",
       "<tr>\n",
       "  <th>CD Account</th>         <td>    3.7357</td> <td>    0.405</td> <td>    9.231</td> <td> 0.000</td> <td>    2.943</td> <td>    4.529</td>\n",
       "</tr>\n",
       "<tr>\n",
       "  <th>Online</th>             <td>   -0.6642</td> <td>    0.194</td> <td>   -3.419</td> <td> 0.001</td> <td>   -1.045</td> <td>   -0.283</td>\n",
       "</tr>\n",
       "<tr>\n",
       "  <th>CreditCard</th>         <td>   -1.1447</td> <td>    0.251</td> <td>   -4.552</td> <td> 0.000</td> <td>   -1.638</td> <td>   -0.652</td>\n",
       "</tr>\n",
       "</table>"
      ],
      "text/plain": [
       "<class 'statsmodels.iolib.summary.Summary'>\n",
       "\"\"\"\n",
       "                           Logit Regression Results                           \n",
       "==============================================================================\n",
       "Dep. Variable:          Personal Loan   No. Observations:                 3500\n",
       "Model:                          Logit   Df Residuals:                     3488\n",
       "Method:                           MLE   Df Model:                           11\n",
       "Date:                Mon, 18 Mar 2024   Pseudo R-squ.:                  0.6136\n",
       "Time:                        12:15:37   Log-Likelihood:                -427.64\n",
       "converged:                       True   LL-Null:                       -1106.7\n",
       "Covariance Type:            nonrobust   LLR p-value:                1.290e-284\n",
       "======================================================================================\n",
       "                         coef    std err          z      P>|z|      [0.025      0.975]\n",
       "--------------------------------------------------------------------------------------\n",
       "const                -15.8745      4.909     -3.234      0.001     -25.496      -6.253\n",
       "Experience             0.0156      0.008      1.961      0.050    4.65e-06       0.031\n",
       "Income                 0.0605      0.003     17.789      0.000       0.054       0.067\n",
       "ZIP Code            1.463e-05   5.19e-05      0.282      0.778    -8.7e-05       0.000\n",
       "Family                 0.6794      0.090      7.542      0.000       0.503       0.856\n",
       "CCAvg                  0.0642      0.049      1.319      0.187      -0.031       0.159\n",
       "Education              1.9032      0.145     13.118      0.000       1.619       2.188\n",
       "Mortgage               0.0007      0.001      0.993      0.321      -0.001       0.002\n",
       "Securities Account    -1.0596      0.357     -2.970      0.003      -1.759      -0.360\n",
       "CD Account             3.7357      0.405      9.231      0.000       2.943       4.529\n",
       "Online                -0.6642      0.194     -3.419      0.001      -1.045      -0.283\n",
       "CreditCard            -1.1447      0.251     -4.552      0.000      -1.638      -0.652\n",
       "======================================================================================\n",
       "\"\"\""
      ]
     },
     "execution_count": 99,
     "metadata": {},
     "output_type": "execute_result"
    }
   ],
   "source": [
    "base_model2 = sma.Logit(y_train,sma.add_constant(x_train.drop(columns=['Age']))).fit()\n",
    "base_model2.summary()"
   ]
  },
  {
   "cell_type": "code",
   "execution_count": 101,
   "id": "01bdc584",
   "metadata": {},
   "outputs": [
    {
     "data": {
      "text/plain": [
       "Income                8.601364e-71\n",
       "Education             2.597951e-39\n",
       "CD Account            2.680049e-20\n",
       "Family                4.643038e-14\n",
       "CreditCard            5.319688e-06\n",
       "Online                6.286423e-04\n",
       "const                 1.221739e-03\n",
       "Securities Account    2.979375e-03\n",
       "Experience            4.993194e-02\n",
       "dtype: float64"
      ]
     },
     "execution_count": 101,
     "metadata": {},
     "output_type": "execute_result"
    }
   ],
   "source": [
    "base_model2.pvalues[base_model2.pvalues<0.05].sort_values()"
   ]
  },
  {
   "cell_type": "code",
   "execution_count": 102,
   "id": "49b271e9",
   "metadata": {},
   "outputs": [
    {
     "data": {
      "text/plain": [
       "1358.1425802365375"
      ]
     },
     "execution_count": 102,
     "metadata": {},
     "output_type": "execute_result"
    }
   ],
   "source": [
    "### Model Significance\n",
    "# LLrt (Log Liklihood ratio test) to test the significance of the model\n",
    "\n",
    "# Ho: The model is not signicant\n",
    "# Ha: The model is significant\n",
    "\n",
    "llr = -2*(base_model2.llnull - base_model2.llf)\n",
    "llr"
   ]
  },
  {
   "cell_type": "code",
   "execution_count": 103,
   "id": "ce7a1024",
   "metadata": {},
   "outputs": [
    {
     "data": {
      "text/plain": [
       "1358.1425802365375"
      ]
     },
     "execution_count": 103,
     "metadata": {},
     "output_type": "execute_result"
    }
   ],
   "source": [
    "base_model2.llr"
   ]
  },
  {
   "cell_type": "code",
   "execution_count": 108,
   "id": "5fbfdf08",
   "metadata": {},
   "outputs": [
    {
     "data": {
      "text/plain": [
       "1.2904212728029903e-284"
      ]
     },
     "execution_count": 108,
     "metadata": {},
     "output_type": "execute_result"
    }
   ],
   "source": [
    "# We see this statistic in chisquare dist with dof= df of model\n",
    "stats.chi2.sf(llr,11)"
   ]
  },
  {
   "cell_type": "code",
   "execution_count": 105,
   "id": "0910ebe1",
   "metadata": {},
   "outputs": [
    {
     "data": {
      "text/plain": [
       "1.2904212728029903e-284"
      ]
     },
     "execution_count": 105,
     "metadata": {},
     "output_type": "execute_result"
    }
   ],
   "source": [
    "base_model2.llr_pvalue"
   ]
  },
  {
   "cell_type": "code",
   "execution_count": 109,
   "id": "c41fccab",
   "metadata": {},
   "outputs": [],
   "source": [
    "# Q3 b."
   ]
  },
  {
   "cell_type": "code",
   "execution_count": 114,
   "id": "14397526",
   "metadata": {},
   "outputs": [],
   "source": [
    "prob = base_model.predict(sma.add_constant(x_test))"
   ]
  },
  {
   "cell_type": "code",
   "execution_count": 116,
   "id": "3b5d74e0",
   "metadata": {},
   "outputs": [],
   "source": [
    "y_pred = np.where(prob>0.5,1,0)"
   ]
  },
  {
   "cell_type": "code",
   "execution_count": 121,
   "id": "fc6ad189",
   "metadata": {},
   "outputs": [],
   "source": [
    "from sklearn.metrics import accuracy_score,classification_report,confusion_matrix"
   ]
  },
  {
   "cell_type": "code",
   "execution_count": 118,
   "id": "73a126b6",
   "metadata": {},
   "outputs": [
    {
     "name": "stdout",
     "output_type": "stream",
     "text": [
      "Accuracy: 0.9473333333333334\n"
     ]
    }
   ],
   "source": [
    "print('Accuracy:',accuracy_score(y_test,y_pred))"
   ]
  },
  {
   "cell_type": "markdown",
   "id": "b5576ea9",
   "metadata": {},
   "source": [
    "Although accuracy seems to very good, but we need check for other metrics aswell. We might not get good precision and recall in minority class."
   ]
  },
  {
   "cell_type": "code",
   "execution_count": 120,
   "id": "1a27d436",
   "metadata": {},
   "outputs": [
    {
     "name": "stdout",
     "output_type": "stream",
     "text": [
      "              precision    recall  f1-score   support\n",
      "\n",
      "           0       0.96      0.98      0.97      1356\n",
      "           1       0.80      0.60      0.69       144\n",
      "\n",
      "    accuracy                           0.95      1500\n",
      "   macro avg       0.88      0.79      0.83      1500\n",
      "weighted avg       0.94      0.95      0.94      1500\n",
      "\n"
     ]
    }
   ],
   "source": [
    "# Q3. C)\n",
    "\n",
    "print(classification_report(y_test,y_pred))"
   ]
  },
  {
   "cell_type": "code",
   "execution_count": 122,
   "id": "33edb35e",
   "metadata": {},
   "outputs": [
    {
     "name": "stdout",
     "output_type": "stream",
     "text": [
      "[[1335   21]\n",
      " [  58   86]]\n"
     ]
    }
   ],
   "source": [
    "print(confusion_matrix(y_test,y_pred))"
   ]
  },
  {
   "cell_type": "markdown",
   "id": "784783f9",
   "metadata": {},
   "source": [
    "Since we need a model which could classify the the customer who have good chances to take the loan. our focus should be on recall of 1 while deciding the final model. "
   ]
  },
  {
   "cell_type": "code",
   "execution_count": 127,
   "id": "c235f42e",
   "metadata": {},
   "outputs": [],
   "source": [
    "# Q3 d)\n",
    "from sklearn.naive_bayes import GaussianNB\n",
    "from sklearn.tree import DecisionTreeClassifier\n",
    "from sklearn.ensemble import AdaBoostClassifier,RandomForestClassifier, GradientBoostingClassifier\n",
    "from xgboost import XGBClassifier\n",
    "\n",
    "from sklearn.metrics import roc_auc_score,roc_curve,recall_score,precision_score,f1_score"
   ]
  },
  {
   "cell_type": "code",
   "execution_count": 143,
   "id": "71a2be5d",
   "metadata": {},
   "outputs": [],
   "source": [
    "models = []\n",
    "accuracy = []\n",
    "precison = []\n",
    "recall = []\n",
    "f1 = []"
   ]
  },
  {
   "cell_type": "code",
   "execution_count": 144,
   "id": "873affb9",
   "metadata": {},
   "outputs": [],
   "source": [
    "def model_validation(model,xtrain,ytrain,xtest,ytest):\n",
    "    m = model\n",
    "    m.fit(xtrain,ytrain)\n",
    "    pred = m.predict(xtest)\n",
    "    prob = m.predict_proba(xtest)[:,1]\n",
    "    \n",
    "    print('Confusion matrix:\\n',confusion_matrix(ytest,pred))\n",
    "    print('Classification report:\\n',classification_report(ytest,pred))\n",
    "    print('ROC AUC:',roc_auc_score(ytest,prob))\n",
    "    \n",
    "    fpr,tpr,_ = roc_curve(ytest,prob)\n",
    "    plt.plot(fpr,tpr,color='green')\n",
    "    plt.plot([0,1],[0,1],color='red')\n",
    "    plt.show()\n",
    "    \n",
    "    resp = input('Do you want to save this model in summary? Y/N')\n",
    "    if resp.lower() == 'y':\n",
    "        models.append(str(m))\n",
    "        accuracy.append(accuracy_score(ytest,pred))\n",
    "        recall.append(recall_score(ytest,pred))\n",
    "        precison.append(precision_score(ytest,pred))\n",
    "        f1.append(f1_score(ytest,pred))\n",
    "        global models_df\n",
    "        models_df = pd.DataFrame({'Model':models,\n",
    "                                 'Accuracy':accuracy,\n",
    "                                 'Recall':recall,\n",
    "                                 'Precesion':precison,\n",
    "                                 'F1':f1})\n",
    "    else:\n",
    "        return"
   ]
  },
  {
   "cell_type": "code",
   "execution_count": 145,
   "id": "3d2123d3",
   "metadata": {},
   "outputs": [
    {
     "name": "stdout",
     "output_type": "stream",
     "text": [
      "Confusion matrix:\n",
      " [[1261   95]\n",
      " [  57   87]]\n",
      "Classification report:\n",
      "               precision    recall  f1-score   support\n",
      "\n",
      "           0       0.96      0.93      0.94      1356\n",
      "           1       0.48      0.60      0.53       144\n",
      "\n",
      "    accuracy                           0.90      1500\n",
      "   macro avg       0.72      0.77      0.74      1500\n",
      "weighted avg       0.91      0.90      0.90      1500\n",
      "\n",
      "ROC AUC: 0.9340124139626352\n"
     ]
    },
    {
     "data": {
      "image/png": "[encoded data removed]",
      "text/plain": [
       "<Figure size 640x480 with 1 Axes>"
      ]
     },
     "metadata": {},
     "output_type": "display_data"
    },
    {
     "name": "stdout",
     "output_type": "stream",
     "text": [
      "Do you want to save this model in summary? Y/Ny\n"
     ]
    }
   ],
   "source": [
    "# Naive Bayes\n",
    "model_validation(GaussianNB(),x_train,y_train,x_test,y_test)"
   ]
  },
  {
   "cell_type": "code",
   "execution_count": 146,
   "id": "ec60beb9",
   "metadata": {},
   "outputs": [
    {
     "name": "stdout",
     "output_type": "stream",
     "text": [
      "Confusion matrix:\n",
      " [[1347    9]\n",
      " [  15  129]]\n",
      "Classification report:\n",
      "               precision    recall  f1-score   support\n",
      "\n",
      "           0       0.99      0.99      0.99      1356\n",
      "           1       0.93      0.90      0.91       144\n",
      "\n",
      "    accuracy                           0.98      1500\n",
      "   macro avg       0.96      0.94      0.95      1500\n",
      "weighted avg       0.98      0.98      0.98      1500\n",
      "\n",
      "ROC AUC: 0.9880085422812193\n"
     ]
    },
    {
     "data": {
      "image/png": "[encoded data removed]",
      "text/plain": [
       "<Figure size 640x480 with 1 Axes>"
      ]
     },
     "metadata": {},
     "output_type": "display_data"
    },
    {
     "name": "stdout",
     "output_type": "stream",
     "text": [
      "Do you want to save this model in summary? Y/Ny\n"
     ]
    }
   ],
   "source": [
    "# Descion tree\n",
    "model_validation(DecisionTreeClassifier(max_depth=5),x_train,y_train,\n",
    "                x_test,y_test)"
   ]
  },
  {
   "cell_type": "code",
   "execution_count": 147,
   "id": "d5b7c6b6",
   "metadata": {},
   "outputs": [
    {
     "data": {
      "text/html": [
       "<div>\n",
       "<style scoped>\n",
       "    .dataframe tbody tr th:only-of-type {\n",
       "        vertical-align: middle;\n",
       "    }\n",
       "\n",
       "    .dataframe tbody tr th {\n",
       "        vertical-align: top;\n",
       "    }\n",
       "\n",
       "    .dataframe thead th {\n",
       "        text-align: right;\n",
       "    }\n",
       "</style>\n",
       "<table border=\"1\" class=\"dataframe\">\n",
       "  <thead>\n",
       "    <tr style=\"text-align: right;\">\n",
       "      <th></th>\n",
       "      <th>Model</th>\n",
       "      <th>Accuracy</th>\n",
       "      <th>Recall</th>\n",
       "      <th>Precesion</th>\n",
       "      <th>F1</th>\n",
       "    </tr>\n",
       "  </thead>\n",
       "  <tbody>\n",
       "    <tr>\n",
       "      <th>0</th>\n",
       "      <td>GaussianNB()</td>\n",
       "      <td>0.898667</td>\n",
       "      <td>0.604167</td>\n",
       "      <td>0.478022</td>\n",
       "      <td>0.533742</td>\n",
       "    </tr>\n",
       "    <tr>\n",
       "      <th>1</th>\n",
       "      <td>DecisionTreeClassifier(max_depth=5)</td>\n",
       "      <td>0.984000</td>\n",
       "      <td>0.895833</td>\n",
       "      <td>0.934783</td>\n",
       "      <td>0.914894</td>\n",
       "    </tr>\n",
       "  </tbody>\n",
       "</table>\n",
       "</div>"
      ],
      "text/plain": [
       "                                 Model  Accuracy    Recall  Precesion  \\\n",
       "0                         GaussianNB()  0.898667  0.604167   0.478022   \n",
       "1  DecisionTreeClassifier(max_depth=5)  0.984000  0.895833   0.934783   \n",
       "\n",
       "         F1  \n",
       "0  0.533742  \n",
       "1  0.914894  "
      ]
     },
     "execution_count": 147,
     "metadata": {},
     "output_type": "execute_result"
    }
   ],
   "source": [
    "models_df"
   ]
  },
  {
   "cell_type": "code",
   "execution_count": 149,
   "id": "9b286b55",
   "metadata": {},
   "outputs": [
    {
     "name": "stdout",
     "output_type": "stream",
     "text": [
      "Confusion matrix:\n",
      " [[1348    8]\n",
      " [  14  130]]\n",
      "Classification report:\n",
      "               precision    recall  f1-score   support\n",
      "\n",
      "           0       0.99      0.99      0.99      1356\n",
      "           1       0.94      0.90      0.92       144\n",
      "\n",
      "    accuracy                           0.99      1500\n",
      "   macro avg       0.97      0.95      0.96      1500\n",
      "weighted avg       0.99      0.99      0.99      1500\n",
      "\n",
      "ROC AUC: 0.9967787200917733\n"
     ]
    },
    {
     "data": {
      "image/png": "[encoded data removed]",
      "text/plain": [
       "<Figure size 640x480 with 1 Axes>"
      ]
     },
     "metadata": {},
     "output_type": "display_data"
    },
    {
     "name": "stdout",
     "output_type": "stream",
     "text": [
      "Do you want to save this model in summary? Y/Ny\n"
     ]
    }
   ],
   "source": [
    "model_validation(GradientBoostingClassifier(n_estimators=100),x_train,y_train,\n",
    "                x_test,y_test)"
   ]
  },
  {
   "cell_type": "code",
   "execution_count": 150,
   "id": "c5b914bf",
   "metadata": {},
   "outputs": [
    {
     "data": {
      "text/html": [
       "<div>\n",
       "<style scoped>\n",
       "    .dataframe tbody tr th:only-of-type {\n",
       "        vertical-align: middle;\n",
       "    }\n",
       "\n",
       "    .dataframe tbody tr th {\n",
       "        vertical-align: top;\n",
       "    }\n",
       "\n",
       "    .dataframe thead th {\n",
       "        text-align: right;\n",
       "    }\n",
       "</style>\n",
       "<table border=\"1\" class=\"dataframe\">\n",
       "  <thead>\n",
       "    <tr style=\"text-align: right;\">\n",
       "      <th></th>\n",
       "      <th>Model</th>\n",
       "      <th>Accuracy</th>\n",
       "      <th>Recall</th>\n",
       "      <th>Precesion</th>\n",
       "      <th>F1</th>\n",
       "    </tr>\n",
       "  </thead>\n",
       "  <tbody>\n",
       "    <tr>\n",
       "      <th>0</th>\n",
       "      <td>GaussianNB()</td>\n",
       "      <td>0.898667</td>\n",
       "      <td>0.604167</td>\n",
       "      <td>0.478022</td>\n",
       "      <td>0.533742</td>\n",
       "    </tr>\n",
       "    <tr>\n",
       "      <th>1</th>\n",
       "      <td>DecisionTreeClassifier(max_depth=5)</td>\n",
       "      <td>0.984000</td>\n",
       "      <td>0.895833</td>\n",
       "      <td>0.934783</td>\n",
       "      <td>0.914894</td>\n",
       "    </tr>\n",
       "    <tr>\n",
       "      <th>2</th>\n",
       "      <td>GradientBoostingClassifier()</td>\n",
       "      <td>0.985333</td>\n",
       "      <td>0.902778</td>\n",
       "      <td>0.942029</td>\n",
       "      <td>0.921986</td>\n",
       "    </tr>\n",
       "  </tbody>\n",
       "</table>\n",
       "</div>"
      ],
      "text/plain": [
       "                                 Model  Accuracy    Recall  Precesion  \\\n",
       "0                         GaussianNB()  0.898667  0.604167   0.478022   \n",
       "1  DecisionTreeClassifier(max_depth=5)  0.984000  0.895833   0.934783   \n",
       "2         GradientBoostingClassifier()  0.985333  0.902778   0.942029   \n",
       "\n",
       "         F1  \n",
       "0  0.533742  \n",
       "1  0.914894  \n",
       "2  0.921986  "
      ]
     },
     "execution_count": 150,
     "metadata": {},
     "output_type": "execute_result"
    }
   ],
   "source": [
    "models_df"
   ]
  },
  {
   "cell_type": "code",
   "execution_count": 151,
   "id": "b3cd498f",
   "metadata": {},
   "outputs": [],
   "source": [
    "# Gradient Boosting is giving best recall among all the models. \n",
    "# Lets fine tune this model"
   ]
  },
  {
   "cell_type": "code",
   "execution_count": 153,
   "id": "74ac7d37",
   "metadata": {},
   "outputs": [],
   "source": [
    "from sklearn.model_selection import GridSearchCV"
   ]
  },
  {
   "cell_type": "code",
   "execution_count": 152,
   "id": "b65c4453",
   "metadata": {},
   "outputs": [],
   "source": [
    "params = {'learning_rate':[1,0.1,0.01],\n",
    "         'n_estimators':[50,75,100,120],\n",
    "         'max_depth':[5,6,7,8,9]}"
   ]
  },
  {
   "cell_type": "code",
   "execution_count": 154,
   "id": "427452b0",
   "metadata": {},
   "outputs": [],
   "source": [
    "gscv = GridSearchCV(estimator=GradientBoostingClassifier(),\n",
    "                   param_grid=params,\n",
    "                   cv=5,verbose=1,scoring='f1')"
   ]
  },
  {
   "cell_type": "code",
   "execution_count": 155,
   "id": "4941f4d3",
   "metadata": {},
   "outputs": [
    {
     "name": "stdout",
     "output_type": "stream",
     "text": [
      "Fitting 5 folds for each of 60 candidates, totalling 300 fits\n"
     ]
    },
    {
     "data": {
      "text/plain": [
       "GridSearchCV(cv=5, estimator=GradientBoostingClassifier(),\n",
       "             param_grid={'learning_rate': [1, 0.1, 0.01],\n",
       "                         'max_depth': [5, 6, 7, 8, 9],\n",
       "                         'n_estimators': [50, 75, 100, 120]},\n",
       "             scoring='f1', verbose=1)"
      ]
     },
     "execution_count": 155,
     "metadata": {},
     "output_type": "execute_result"
    }
   ],
   "source": [
    "gscv.fit(x_train,y_train)"
   ]
  },
  {
   "cell_type": "code",
   "execution_count": 156,
   "id": "0dfef805",
   "metadata": {},
   "outputs": [
    {
     "data": {
      "text/plain": [
       "0.9350563971050636"
      ]
     },
     "execution_count": 156,
     "metadata": {},
     "output_type": "execute_result"
    }
   ],
   "source": [
    "gscv.best_score_"
   ]
  },
  {
   "cell_type": "code",
   "execution_count": 157,
   "id": "6e78e918",
   "metadata": {},
   "outputs": [
    {
     "data": {
      "text/plain": [
       "{'learning_rate': 1, 'max_depth': 5, 'n_estimators': 120}"
      ]
     },
     "execution_count": 157,
     "metadata": {},
     "output_type": "execute_result"
    }
   ],
   "source": [
    "gscv.best_params_"
   ]
  },
  {
   "cell_type": "code",
   "execution_count": 158,
   "id": "d7d695aa",
   "metadata": {},
   "outputs": [],
   "source": [
    "final_model = GradientBoostingClassifier(**gscv.best_params_)"
   ]
  },
  {
   "cell_type": "code",
   "execution_count": 159,
   "id": "f13792e5",
   "metadata": {},
   "outputs": [
    {
     "name": "stdout",
     "output_type": "stream",
     "text": [
      "Confusion matrix:\n",
      " [[1339   17]\n",
      " [  16  128]]\n",
      "Classification report:\n",
      "               precision    recall  f1-score   support\n",
      "\n",
      "           0       0.99      0.99      0.99      1356\n",
      "           1       0.88      0.89      0.89       144\n",
      "\n",
      "    accuracy                           0.98      1500\n",
      "   macro avg       0.94      0.94      0.94      1500\n",
      "weighted avg       0.98      0.98      0.98      1500\n",
      "\n",
      "ROC AUC: 0.9625609431333989\n"
     ]
    },
    {
     "data": {
      "image/png": "[encoded data removed]",
      "text/plain": [
       "<Figure size 640x480 with 1 Axes>"
      ]
     },
     "metadata": {},
     "output_type": "display_data"
    },
    {
     "name": "stdout",
     "output_type": "stream",
     "text": [
      "Do you want to save this model in summary? Y/Ny\n"
     ]
    }
   ],
   "source": [
    "model_validation(final_model,x_train,y_train,x_test,y_test)"
   ]
  },
  {
   "cell_type": "code",
   "execution_count": 160,
   "id": "4f96226b",
   "metadata": {},
   "outputs": [
    {
     "data": {
      "text/html": [
       "<div>\n",
       "<style scoped>\n",
       "    .dataframe tbody tr th:only-of-type {\n",
       "        vertical-align: middle;\n",
       "    }\n",
       "\n",
       "    .dataframe tbody tr th {\n",
       "        vertical-align: top;\n",
       "    }\n",
       "\n",
       "    .dataframe thead th {\n",
       "        text-align: right;\n",
       "    }\n",
       "</style>\n",
       "<table border=\"1\" class=\"dataframe\">\n",
       "  <thead>\n",
       "    <tr style=\"text-align: right;\">\n",
       "      <th></th>\n",
       "      <th>Model</th>\n",
       "      <th>Accuracy</th>\n",
       "      <th>Recall</th>\n",
       "      <th>Precesion</th>\n",
       "      <th>F1</th>\n",
       "    </tr>\n",
       "  </thead>\n",
       "  <tbody>\n",
       "    <tr>\n",
       "      <th>0</th>\n",
       "      <td>GaussianNB()</td>\n",
       "      <td>0.898667</td>\n",
       "      <td>0.604167</td>\n",
       "      <td>0.478022</td>\n",
       "      <td>0.533742</td>\n",
       "    </tr>\n",
       "    <tr>\n",
       "      <th>1</th>\n",
       "      <td>DecisionTreeClassifier(max_depth=5)</td>\n",
       "      <td>0.984000</td>\n",
       "      <td>0.895833</td>\n",
       "      <td>0.934783</td>\n",
       "      <td>0.914894</td>\n",
       "    </tr>\n",
       "    <tr>\n",
       "      <th>2</th>\n",
       "      <td>GradientBoostingClassifier()</td>\n",
       "      <td>0.985333</td>\n",
       "      <td>0.902778</td>\n",
       "      <td>0.942029</td>\n",
       "      <td>0.921986</td>\n",
       "    </tr>\n",
       "    <tr>\n",
       "      <th>3</th>\n",
       "      <td>GradientBoostingClassifier(learning_rate=1, ma...</td>\n",
       "      <td>0.978000</td>\n",
       "      <td>0.888889</td>\n",
       "      <td>0.882759</td>\n",
       "      <td>0.885813</td>\n",
       "    </tr>\n",
       "  </tbody>\n",
       "</table>\n",
       "</div>"
      ],
      "text/plain": [
       "                                               Model  Accuracy    Recall  \\\n",
       "0                                       GaussianNB()  0.898667  0.604167   \n",
       "1                DecisionTreeClassifier(max_depth=5)  0.984000  0.895833   \n",
       "2                       GradientBoostingClassifier()  0.985333  0.902778   \n",
       "3  GradientBoostingClassifier(learning_rate=1, ma...  0.978000  0.888889   \n",
       "\n",
       "   Precesion        F1  \n",
       "0   0.478022  0.533742  \n",
       "1   0.934783  0.914894  \n",
       "2   0.942029  0.921986  \n",
       "3   0.882759  0.885813  "
      ]
     },
     "execution_count": 160,
     "metadata": {},
     "output_type": "execute_result"
    }
   ],
   "source": [
    "models_df"
   ]
  },
  {
   "cell_type": "code",
   "execution_count": 165,
   "id": "9e29fa9e",
   "metadata": {},
   "outputs": [
    {
     "data": {
      "text/html": [
       "<div>\n",
       "<style scoped>\n",
       "    .dataframe tbody tr th:only-of-type {\n",
       "        vertical-align: middle;\n",
       "    }\n",
       "\n",
       "    .dataframe tbody tr th {\n",
       "        vertical-align: top;\n",
       "    }\n",
       "\n",
       "    .dataframe thead th {\n",
       "        text-align: right;\n",
       "    }\n",
       "</style>\n",
       "<table border=\"1\" class=\"dataframe\">\n",
       "  <thead>\n",
       "    <tr style=\"text-align: right;\">\n",
       "      <th></th>\n",
       "      <th>Features</th>\n",
       "      <th>Importance</th>\n",
       "    </tr>\n",
       "  </thead>\n",
       "  <tbody>\n",
       "    <tr>\n",
       "      <th>2</th>\n",
       "      <td>Income</td>\n",
       "      <td>0.316767</td>\n",
       "    </tr>\n",
       "    <tr>\n",
       "      <th>10</th>\n",
       "      <td>Online</td>\n",
       "      <td>0.246444</td>\n",
       "    </tr>\n",
       "    <tr>\n",
       "      <th>3</th>\n",
       "      <td>ZIP Code</td>\n",
       "      <td>0.178898</td>\n",
       "    </tr>\n",
       "    <tr>\n",
       "      <th>6</th>\n",
       "      <td>Education</td>\n",
       "      <td>0.132775</td>\n",
       "    </tr>\n",
       "    <tr>\n",
       "      <th>4</th>\n",
       "      <td>Family</td>\n",
       "      <td>0.058305</td>\n",
       "    </tr>\n",
       "    <tr>\n",
       "      <th>5</th>\n",
       "      <td>CCAvg</td>\n",
       "      <td>0.041114</td>\n",
       "    </tr>\n",
       "    <tr>\n",
       "      <th>1</th>\n",
       "      <td>Experience</td>\n",
       "      <td>0.012717</td>\n",
       "    </tr>\n",
       "    <tr>\n",
       "      <th>0</th>\n",
       "      <td>Age</td>\n",
       "      <td>0.005878</td>\n",
       "    </tr>\n",
       "    <tr>\n",
       "      <th>7</th>\n",
       "      <td>Mortgage</td>\n",
       "      <td>0.003281</td>\n",
       "    </tr>\n",
       "    <tr>\n",
       "      <th>9</th>\n",
       "      <td>CD Account</td>\n",
       "      <td>0.002689</td>\n",
       "    </tr>\n",
       "    <tr>\n",
       "      <th>8</th>\n",
       "      <td>Securities Account</td>\n",
       "      <td>0.000768</td>\n",
       "    </tr>\n",
       "    <tr>\n",
       "      <th>11</th>\n",
       "      <td>CreditCard</td>\n",
       "      <td>0.000364</td>\n",
       "    </tr>\n",
       "  </tbody>\n",
       "</table>\n",
       "</div>"
      ],
      "text/plain": [
       "              Features  Importance\n",
       "2               Income    0.316767\n",
       "10              Online    0.246444\n",
       "3             ZIP Code    0.178898\n",
       "6            Education    0.132775\n",
       "4               Family    0.058305\n",
       "5                CCAvg    0.041114\n",
       "1           Experience    0.012717\n",
       "0                  Age    0.005878\n",
       "7             Mortgage    0.003281\n",
       "9           CD Account    0.002689\n",
       "8   Securities Account    0.000768\n",
       "11          CreditCard    0.000364"
      ]
     },
     "execution_count": 165,
     "metadata": {},
     "output_type": "execute_result"
    }
   ],
   "source": [
    "# Q3 e)\n",
    "\n",
    "pd.DataFrame({'Features':x_test.columns,\n",
    "              'Importance':final_model.feature_importances_})\\\n",
    ".sort_values(by=['Importance'],ascending=False)"
   ]
  },
  {
   "cell_type": "code",
   "execution_count": null,
   "id": "53cf9f1c",
   "metadata": {},
   "outputs": [],
   "source": []
  }
 ],
 "metadata": {
  "kernelspec": {
   "display_name": "Python 3 (ipykernel)",
   "language": "python",
   "name": "python3"
  },
  "language_info": {
   "codemirror_mode": {
    "name": "ipython",
    "version": 3
   },
   "file_extension": ".py",
   "mimetype": "text/x-python",
   "name": "python",
   "nbconvert_exporter": "python",
   "pygments_lexer": "ipython3",
   "version": "3.10.9"
  }
 },
 "nbformat": 4,
 "nbformat_minor": 5
}
